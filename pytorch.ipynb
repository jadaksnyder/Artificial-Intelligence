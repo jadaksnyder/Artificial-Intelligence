{
  "nbformat": 4,
  "nbformat_minor": 0,
  "metadata": {
    "colab": {
      "provenance": [],
      "authorship_tag": "ABX9TyMjPTpcfVpMZo0BE6Jpxql7",
      "include_colab_link": true
    },
    "kernelspec": {
      "name": "python3",
      "display_name": "Python 3"
    },
    "language_info": {
      "name": "python"
    }
  },
  "cells": [
    {
      "cell_type": "markdown",
      "metadata": {
        "id": "view-in-github",
        "colab_type": "text"
      },
      "source": [
        "<a href=\"https://colab.research.google.com/github/jadaksnyder/Artificial-Intelligence/blob/main/pytorch.ipynb\" target=\"_parent\"><img src=\"https://colab.research.google.com/assets/colab-badge.svg\" alt=\"Open In Colab\"/></a>"
      ]
    },
    {
      "cell_type": "code",
      "execution_count": 5,
      "metadata": {
        "colab": {
          "base_uri": "https://localhost:8080/"
        },
        "id": "F9Eg6AaBqqy2",
        "outputId": "5dc07809-db01-46f9-80b0-ef22143f6d28"
      },
      "outputs": [
        {
          "output_type": "stream",
          "name": "stdout",
          "text": [
            "tensor([1, 2, 3, 4, 5])\n",
            "tensor([[1, 2, 3],\n",
            "        [4, 5, 6]])\n"
          ]
        }
      ],
      "source": [
        "import torch\n",
        "\n",
        "#this creates a 1D tensor\n",
        "a = torch.tensor([1, 2, 3, 4, 5])\n",
        "print(a)\n",
        "\n",
        "#this creates a 2D tensor\n",
        "b = torch.tensor([[1,2,3], [4,5,6]])\n",
        "print(b)\n",
        "\n"
      ]
    },
    {
      "cell_type": "code",
      "source": [
        "import torch\n",
        "#creating the 2D tensor of shape (3,3) with random values\n",
        "tensor = torch.rand(3,3)\n",
        "print(tensor)\n",
        "\n",
        "#find the shape, data type, and device of tensor\n",
        "print(\"Shape of the tensor: \", tensor.shape)\n",
        "print(\"Data type of tensor: \", tensor.dtype)\n",
        "print(\"Device of tensor: \", tensor.device)\n",
        "\n",
        "#perform element-wise addition and multiplication\n",
        "\n",
        "#create another tensor for addition (Note to self: must be same shape.)\n",
        "tensor2 = torch.rand(3,3)\n",
        "\n",
        "#use torch.add to add the two tensors\n",
        "result_add = torch.add(tensor, tensor2)\n",
        "print(\"Result: \", result_add)\n",
        "\n",
        "#use torch.mul to multiply the two tensors\n",
        "result_mul = torch.mul(tensor, tensor2)\n",
        "print(\"Result: \", result_mul)\n",
        "\n"
      ],
      "metadata": {
        "colab": {
          "base_uri": "https://localhost:8080/"
        },
        "id": "oCLx8i6ItcbO",
        "outputId": "8a0d02de-681c-47aa-e7b6-6aa0ee0d9c35"
      },
      "execution_count": 15,
      "outputs": [
        {
          "output_type": "stream",
          "name": "stdout",
          "text": [
            "tensor([[0.3140, 0.9245, 0.1050],\n",
            "        [0.1004, 0.4958, 0.1764],\n",
            "        [0.7634, 0.0774, 0.6525]])\n",
            "Shape of the tensor:  torch.Size([3, 3])\n",
            "Data type of tensor:  torch.float32\n",
            "Device of tensor:  cpu\n",
            "Result:  tensor([[1.1249, 1.3581, 0.7932],\n",
            "        [1.0605, 1.4194, 1.1242],\n",
            "        [1.5772, 0.9117, 0.9344]])\n",
            "Result:  tensor([[0.2546, 0.4009, 0.0723],\n",
            "        [0.0964, 0.4580, 0.1672],\n",
            "        [0.6213, 0.0646, 0.1839]])\n"
          ]
        }
      ]
    },
    {
      "cell_type": "code",
      "source": [],
      "metadata": {
        "id": "O4p3EQpIyixC"
      },
      "execution_count": null,
      "outputs": []
    }
  ]
}