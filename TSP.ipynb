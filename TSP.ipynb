{
  "nbformat": 4,
  "nbformat_minor": 0,
  "metadata": {
    "colab": {
      "provenance": [],
      "authorship_tag": "ABX9TyOLXFQojjwXwaSTSbt8K+1v",
      "include_colab_link": true
    },
    "kernelspec": {
      "name": "python3",
      "display_name": "Python 3"
    },
    "language_info": {
      "name": "python"
    }
  },
  "cells": [
    {
      "cell_type": "markdown",
      "metadata": {
        "id": "view-in-github",
        "colab_type": "text"
      },
      "source": [
        "<a href=\"https://colab.research.google.com/github/jadaksnyder/Artificial-Intelligence/blob/main/TSP.ipynb\" target=\"_parent\"><img src=\"https://colab.research.google.com/assets/colab-badge.svg\" alt=\"Open In Colab\"/></a>"
      ]
    },
    {
      "cell_type": "code",
      "execution_count": null,
      "metadata": {
        "colab": {
          "base_uri": "https://localhost:8080/"
        },
        "id": "iwxHo1PpzSRg",
        "outputId": "7c29ac78-e725-476f-ddf6-761d7d68b2d5"
      },
      "outputs": [
        {
          "output_type": "stream",
          "name": "stdout",
          "text": [
            "Distance Matrix:\n",
            "[[0.   0.25 0.66 0.61 0.24 0.49 1.02 0.05 0.06 1.7 ]\n",
            " [0.25 0.   0.49 0.81 0.43 0.31 0.91 0.26 0.25 1.53]\n",
            " [0.59 0.41 0.   1.15 0.77 0.1  1.33 0.64 0.59 1.19]\n",
            " [0.59 0.78 1.2  0.   0.36 1.03 1.42 0.64 0.54 2.24]\n",
            " [0.24 0.43 0.85 0.38 0.   0.67 1.07 0.29 0.18 1.88]\n",
            " [0.49 0.31 0.1  1.05 0.67 0.   1.23 0.54 0.49 1.24]\n",
            " [1.02 0.91 1.4  1.44 1.07 1.23 0.   0.95 0.96 2.44]\n",
            " [0.05 0.42 0.84 0.66 0.28 0.67 0.95 0.   0.18 1.88]\n",
            " [0.06 0.25 0.66 0.56 0.18 0.49 0.96 0.1  0.   1.7 ]\n",
            " [1.7  1.53 1.19 2.26 1.88 1.24 2.44 1.75 1.7  0.  ]]\n",
            "Optimal Route (Nearest Neighbor):\n",
            "Phil1 ➝ Phil8 ➝ Phil9 ➝ Phil5 ➝ Phil4 ➝ Phil2 ➝ Phil6 ➝ Phil3 ➝ Phil10 ➝ Phil7 ➝ Phil1\n"
          ]
        }
      ],
      "source": [
        "import numpy as np\n",
        "from geopy.distance import geodesic\n",
        "import requests\n",
        "\n",
        "# Store the 10 Phil locations in a dictionary\n",
        "locations = {\n",
        "    \"Phil1\": (40.94448, -78.96854),\n",
        "    \"Phil2\": (40.94384, -78.97215),\n",
        "    \"Phil3\": (40.94321, -78.97842),\n",
        "    \"Phil4\": (40.94816, -78.96191),\n",
        "    \"Phil5\": (40.94507, -78.96537),\n",
        "    \"Phil6\": (40.94296, -78.97668),\n",
        "    \"Phil7\": (40.95426, -78.97565),\n",
        "    \"Phil8\": (40.94505, -78.96812),\n",
        "    \"Phil9\": (40.94424, -78.96806),\n",
        "    \"Phil10\": (40.93908, -78.99365),\n",
        "}\n",
        "\n",
        "def meters_to_miles(meters):\n",
        "    return meters * 0.000621371\n",
        "\n",
        "def distance(location_from, location_to):\n",
        "    \"\"\"Fetches driving distance between two coordinates using OSRM API\"\"\"\n",
        "    url = f\"http://router.project-osrm.org/route/v1/driving/{location_from[1]},{location_from[0]};{location_to[1]},{location_to[0]}?overview=false\"\n",
        "    response = requests.get(url)\n",
        "\n",
        "    if response.status_code == 200:\n",
        "        try:\n",
        "            data = response.json()\n",
        "            distance_in_meters = data[\"routes\"][0][\"legs\"][0][\"distance\"]  # Distance in meters\n",
        "            return round(meters_to_miles(distance_in_meters), 2)  # Convert to miles and round\n",
        "        except KeyError:\n",
        "            print(\"Error: Unable to extract distance.\")\n",
        "    else:\n",
        "        print(f\"Error: Failed to retrieve data. Status code: {response.status_code}\")\n",
        "\n",
        "    return float('inf')  # Return large value if API fails\n",
        "\n",
        "# Create the distance matrix automatically\n",
        "def create_distance_matrix():\n",
        "    keys = list(locations.keys())\n",
        "    num_locations = len(keys)\n",
        "    distance_matrix = np.zeros((num_locations, num_locations))\n",
        "\n",
        "    for i in range(num_locations):\n",
        "        for j in range(num_locations):\n",
        "            if i != j:\n",
        "                dist = distance(locations[keys[i]], locations[keys[j]])\n",
        "                if dist is not None:\n",
        "                    distance_matrix[i][j] = dist  # Already rounded in `distance()`\n",
        "\n",
        "    return distance_matrix, keys\n",
        "\n",
        "# Implement Nearest Neighbor Heuristic\n",
        "def nearest_neighbor(start_index=0, distance_matrix=None):\n",
        "    \"\"\"Solves the TSP using a Nearest Neighbor Heuristic\"\"\"\n",
        "    unvisited = set(range(len(distance_matrix)))\n",
        "    unvisited.remove(start_index)\n",
        "    route = [start_index]\n",
        "    current = start_index\n",
        "\n",
        "    while unvisited:\n",
        "        next_city = min(unvisited, key=lambda city: distance_matrix[current][city])\n",
        "        unvisited.remove(next_city)\n",
        "        route.append(next_city)\n",
        "        current = next_city\n",
        "\n",
        "    route.append(start_index)  # Return to starting city\n",
        "    return route\n",
        "\n",
        "# Run the fixed code\n",
        "distance_matrix, keys = create_distance_matrix()\n",
        "print(\"Distance Matrix:\")\n",
        "print(distance_matrix)\n",
        "\n",
        "# Solve TSP using nearest neighbor starting from Phil1 (index 0)\n",
        "route = nearest_neighbor(0, distance_matrix)\n",
        "print(\"Optimal Route (Nearest Neighbor):\")\n",
        "print(\" ➝ \".join([keys[i] for i in route]))\n"
      ]
    }
  ]
}